{
 "cells": [
  {
   "cell_type": "code",
   "execution_count": null,
   "id": "1307fb88",
   "metadata": {},
   "outputs": [],
   "source": [
    "#wap to take two no. as a input and check if its even ,odd or zero\n",
    "a = int(input(\"Enter 1st no.\"))\n",
    "if a%2 == 0:\n",
    "    print(\"Even\")\n",
    "elif a == 0:\n",
    "    print(\"Zero\")\n",
    "else:\n",
    "    print(\"Odd\")        "
   ]
  },
  {
   "cell_type": "code",
   "execution_count": 4,
   "id": "e888d661",
   "metadata": {},
   "outputs": [
    {
     "name": "stdout",
     "output_type": "stream",
     "text": [
      "All numbers are equal\n"
     ]
    }
   ],
   "source": [
    "# Wap which will take three numbers as input and print them in ascending order.\n",
    "# If all numbers are equal, print a message indicating that.\n",
    "a = eval(input(\"Enter 1st number\"))\n",
    "b = eval(input(\"Enter 2nd number\"))\n",
    "c = eval(input(\"Enter 3rd number\"))\n",
    "if((a<b) and (a<c)):\n",
    "    print(a)\n",
    "    if(b<c):\n",
    "        print(b)\n",
    "        print(c)\n",
    "    elif(c<b):\n",
    "        print(c)\n",
    "        print(b)    \n",
    "\n",
    "elif((b<a) and (b<c)):\n",
    "    print(b)\n",
    "    if(a<c):\n",
    "        print(a)\n",
    "        print(c)\n",
    "    elif(c<a):\n",
    "        print(c)\n",
    "        print(a)\n",
    "        \n",
    "elif((c<b and c<a)):\n",
    "    print(c)\n",
    "    if(a<b):\n",
    "        print(a)\n",
    "        print(b)  \n",
    "    elif(b<a):\n",
    "        print(b)\n",
    "        print(a)\n",
    "elif(a==b and b==c):\n",
    "    print(\"All numbers are equal\")       \n",
    "\n"
   ]
  },
  {
   "cell_type": "code",
   "execution_count": null,
   "id": "b46ec7fa",
   "metadata": {},
   "outputs": [
    {
     "name": "stdout",
     "output_type": "stream",
     "text": [
      "fizzbuzz\n"
     ]
    }
   ],
   "source": [
    "# Wap which will take three numbers as input and if the number is divisible by 3 then print fizz, if divisible by 5 then print buzz,\n",
    "#  if divisible by both then print fizzbuzz, else print the number itself.\n",
    "x = int(input(\"Enter a number\"))\n",
    "if( x%3==0 and x%5==0):\n",
    "        print(\"fizzbuzz\")\n",
    "\n",
    "elif(x%5==0):\n",
    "        print(\"buzz\")\n",
    "\n",
    "elif(x%3==0):\n",
    "        print(\"fizz\")\n",
    "\n",
    "else:\n",
    "        print(\"number is not divisible\")            "
   ]
  },
  {
   "cell_type": "code",
   "execution_count": 10,
   "id": "c69c0805",
   "metadata": {},
   "outputs": [
    {
     "name": "stdout",
     "output_type": "stream",
     "text": [
      "Isosceles Triangle\n"
     ]
    }
   ],
   "source": [
    "#wap a program which will take length to three sides of a triangle as a input and check weather the triangle is isosceles, equalateral, scalene\n",
    "a = int(input(\"Enter 1st side\"))\n",
    "b = int(input(\"Enter 2nd side\"))\n",
    "c = int(input(\"Enter 3rd side\"))\n",
    "if(a==b==c):\n",
    "    print(\"Equalateral Triangle\")\n",
    "elif(a==b or b==c or c==a):\n",
    "    print(\"Isosceles Triangle\") \n",
    "else:\n",
    "    print(\"Scelene Triangle\")              \n"
   ]
  },
  {
   "cell_type": "code",
   "execution_count": 11,
   "id": "1a1488e3",
   "metadata": {},
   "outputs": [
    {
     "name": "stdout",
     "output_type": "stream",
     "text": [
      "Not Valid Triangle\n"
     ]
    }
   ],
   "source": [
    "#wap a program which will take three sides of a triangle as a input and check if the triangle is valid\n",
    "a = int(input(\"Enter 1st side\"))\n",
    "b = int(input(\"Enter 2nd side\"))\n",
    "c = int(input(\"Enter 3rd side\"))\n",
    "if((a+b>c) and (b+c)>a and (a+c)>b):\n",
    "    print(\"Valid Triangle\")\n",
    "else:\n",
    "    print(\"Not Valid Triangle\")    "
   ]
  },
  {
   "cell_type": "code",
   "execution_count": 5,
   "id": "5a3258d0",
   "metadata": {},
   "outputs": [
    {
     "name": "stdout",
     "output_type": "stream",
     "text": [
      "615.0\n"
     ]
    }
   ],
   "source": [
    "# first 50 units = 0.5 per unit\n",
    "# next 150 units = 0.75 per unit\n",
    "# next 250 units = 1.20 per unit\n",
    "# above 450 units = 1.50 per unit\n",
    "# wap a program which will take units of electricity consumed as input and calculate the total bill\n",
    "# 20% extra charge on total bill\n",
    "u = int(input(\"Enter units\"))\n",
    "if u <= 50:\n",
    "    p = u*0.5\n",
    "elif u <= 200:\n",
    "    p = 50*0.5+(u-50)*0.75\n",
    "elif u <= 450:\n",
    "    p = 50*0.5+150*0.75+(u-200)*1.20\n",
    "else:\n",
    "    p = 50*0.5+150*0.75+250*1.20+(u-450)*1.50\n",
    "fp = p+p*0.2\n",
    "print(fp)           \n"
   ]
  },
  {
   "cell_type": "code",
   "execution_count": 6,
   "id": "ab9fdaf2",
   "metadata": {},
   "outputs": [
    {
     "name": "stdout",
     "output_type": "stream",
     "text": [
      "4610.0\n"
     ]
    }
   ],
   "source": [
    "# wap a program which will take a kilometer covered and calculate the bill according to the following criteria\n",
    "# first 10 km = 11 per km\n",
    "# next 90 km = 10 per km\n",
    "# above 90+ km = 9 per km\n",
    "# and print the total bill\n",
    "k = float(input())\n",
    "if k <= 10:\n",
    "    k = k*11\n",
    "\n",
    "elif k <= 90:\n",
    "    k=10*11 + (k-10)*10\n",
    "\n",
    "else:\n",
    "    k=10*11 + 90*10 + (k-100)*9\n",
    "print(k)"
   ]
  },
  {
   "cell_type": "code",
   "execution_count": 22,
   "id": "2f2c9916",
   "metadata": {},
   "outputs": [
    {
     "name": "stdout",
     "output_type": "stream",
     "text": [
      "1081\n"
     ]
    }
   ],
   "source": [
    "#wap which will print sum of odd no. btw 25 to 70\n",
    "n = 25\n",
    "sum = 0\n",
    "while n<=70:\n",
    "    #print(n,end= \" \")\n",
    "    sum += n\n",
    "    n += 2\n",
    "print(sum)"
   ]
  },
  {
   "cell_type": "code",
   "execution_count": 2,
   "id": "23463c63",
   "metadata": {},
   "outputs": [
    {
     "name": "stdout",
     "output_type": "stream",
     "text": [
      "1 5 "
     ]
    }
   ],
   "source": [
    "#wap which will take a no. as a input from user and print factors of the no.\n",
    "a = int(input(\"enter a no.\"))\n",
    "i = 1\n",
    "while i<=a:\n",
    "    if a%i == 0:\n",
    "     print(i,end=\" \")#/n\n",
    "    i += 1    \n",
    "         "
   ]
  },
  {
   "cell_type": "code",
   "execution_count": null,
   "id": "83bcb5e5",
   "metadata": {},
   "outputs": [
    {
     "name": "stdout",
     "output_type": "stream",
     "text": [
      "15511210043330985984000000\n"
     ]
    }
   ],
   "source": [
    "#factorial of a number\n",
    "\n",
    "i = 1\n",
    "temp = 1\n",
    "n=int(input())\n",
    "while(i<=n):\n",
    "    temp *= i\n",
    "    i += 1\n",
    "print(temp)"
   ]
  },
  {
   "cell_type": "code",
   "execution_count": 8,
   "id": "137ea4f7",
   "metadata": {},
   "outputs": [
    {
     "name": "stdout",
     "output_type": "stream",
     "text": [
      "654\n"
     ]
    }
   ],
   "source": [
    "#wap to take input and reverse a number\n",
    "x = int(input(\"Enter a number\"))\n",
    "temp = 0\n",
    "while x != 0:\n",
    "    r = x % 10\n",
    "    x //= 10\n",
    "    temp = temp * 10 + r\n",
    "print(temp)"
   ]
  },
  {
   "cell_type": "code",
   "execution_count": null,
   "id": "b3da4a14",
   "metadata": {},
   "outputs": [
    {
     "name": "stdout",
     "output_type": "stream",
     "text": [
      "palindrome\n"
     ]
    }
   ],
   "source": [
    "#wap to take input and check if its palindrome\n",
    "x = int(input())\n",
    "temp = 0\n",
    "while x != 0:\n",
    "    r = r*10\n",
    "    x //= 10\n",
    "    temp *= 10 + r\n",
    "if x == temp:\n",
    "    print(\"palindrome\")\n",
    "else:\n",
    "    print(\"not palindrome\")\n",
    "\n"
   ]
  },
  {
   "cell_type": "code",
   "execution_count": 10,
   "id": "2fabe88d",
   "metadata": {},
   "outputs": [
    {
     "name": "stdout",
     "output_type": "stream",
     "text": [
      "Narcissistic\n"
     ]
    }
   ],
   "source": [
    "#wap to input a number and check if its narcissistic\n",
    "n = int(input(\"Enter a number\"))\n",
    "temp = n\n",
    "p = len(str(n))\n",
    "sum = 0\n",
    "while n > 0:\n",
    "    x = n % 10\n",
    "    sum += x**p\n",
    "    n //= 10\n",
    "if sum == temp:\n",
    "    print(\"Narcissistic\")\n",
    "else:\n",
    "    print(\"Not Narcissistic\")    \n"
   ]
  },
  {
   "cell_type": "code",
   "execution_count": 1,
   "id": "afdd2e1f",
   "metadata": {},
   "outputs": [
    {
     "name": "stdout",
     "output_type": "stream",
     "text": [
      "1 5\n"
     ]
    }
   ],
   "source": [
    "#wap to input a number and check the count of even or odd\n",
    "n = int(input())\n",
    "ed = 0\n",
    "od = 0\n",
    "while n != 0:\n",
    "    r = n%10\n",
    "    if r%2 == 0:\n",
    "        ed += 1\n",
    "    else:\n",
    "        od += 1\n",
    "    n //= 10\n",
    "print(ed,od)            \n"
   ]
  },
  {
   "cell_type": "code",
   "execution_count": null,
   "id": "61714a17",
   "metadata": {},
   "outputs": [
    {
     "name": "stdout",
     "output_type": "stream",
     "text": [
      "prime\n"
     ]
    }
   ],
   "source": [
    "#wap to take a input and check if its prime or not\n",
    "n = int(input())\n",
    "i = 1\n",
    "c = 0\n",
    "while i <= n:\n",
    "    if n%i == 0:\n",
    "        c += 1\n",
    "    i += 1\n",
    "if c == 2:\n",
    "    print(\"prime\")\n",
    "else:\n",
    "    print(\"not prime\")    \n",
    "\n"
   ]
  },
  {
   "cell_type": "code",
   "execution_count": null,
   "id": "6cdfa0c0",
   "metadata": {},
   "outputs": [
    {
     "name": "stdout",
     "output_type": "stream",
     "text": [
      "prime\n"
     ]
    }
   ],
   "source": [
    "#wap to take a input and check if its prime or using break \n",
    "n = int(input())\n",
    "i = 2\n",
    "while i < n:\n",
    "    if n%i == 0:\n",
    "        print(\"not prime\")\n",
    "        break\n",
    "    i += 1\n",
    "else:\n",
    "    print(\"prime\")  "
   ]
  },
  {
   "cell_type": "code",
   "execution_count": 14,
   "id": "d7ac2a0f",
   "metadata": {},
   "outputs": [
    {
     "name": "stdout",
     "output_type": "stream",
     "text": [
      "LCM is 12\n"
     ]
    }
   ],
   "source": [
    "#wap to take two no. as a input from user and find the L.C.M of the no's.\n",
    "a = int(input(\"Enter 1st no.\"))\n",
    "b = int(input(\"Enter 2nd no.\"))\n",
    "i = a\n",
    "while i < a*b:\n",
    "    if i%a == 0 and i%b == 0:\n",
    "        print(\"LCM is\",i)\n",
    "        break\n",
    "    i += 1"
   ]
  },
  {
   "cell_type": "code",
   "execution_count": 2,
   "id": "a4778cad",
   "metadata": {},
   "outputs": [
    {
     "name": "stdout",
     "output_type": "stream",
     "text": [
      "HCF is  1\n"
     ]
    }
   ],
   "source": [
    "#wap to take two no. as a input from user and find the h.c.f of the no's.\n",
    "n = int(input())\n",
    "m = int(input())\n",
    "i = n\n",
    "while i >= 1:\n",
    "    if n%i == 0 and m%i ==0:\n",
    "        print(\"HCF is \",i)\n",
    "        break\n",
    "    i -=1\n"
   ]
  },
  {
   "cell_type": "code",
   "execution_count": 3,
   "id": "0e0637b1",
   "metadata": {},
   "outputs": [
    {
     "name": "stdout",
     "output_type": "stream",
     "text": [
      "1 3 5 7 9 11 13 15 17 19 "
     ]
    }
   ],
   "source": [
    "#range in for loop\n",
    "for i in range(1,21,2):\n",
    "    print(i,end=\" \")"
   ]
  },
  {
   "cell_type": "code",
   "execution_count": 6,
   "id": "66c610a4",
   "metadata": {},
   "outputs": [
    {
     "name": "stdout",
     "output_type": "stream",
     "text": [
      "110 100\n"
     ]
    }
   ],
   "source": [
    "#sum of even or odd\n",
    "ed = 0\n",
    "od = 0\n",
    "for i in range(1,21,1):\n",
    "    if i%2 == 0:\n",
    "        ed += i\n",
    "    else:\n",
    "        od += i\n",
    "print(ed,od)        \n",
    "\n",
    "    "
   ]
  },
  {
   "cell_type": "code",
   "execution_count": null,
   "id": "3b7a7639",
   "metadata": {},
   "outputs": [],
   "source": [
    "#calculate factors ,count even and odd"
   ]
  },
  {
   "cell_type": "code",
   "execution_count": null,
   "id": "2e87de4d",
   "metadata": {},
   "outputs": [],
   "source": [
    "#factorial"
   ]
  },
  {
   "cell_type": "code",
   "execution_count": 12,
   "id": "edfa2913",
   "metadata": {},
   "outputs": [
    {
     "name": "stdout",
     "output_type": "stream",
     "text": [
      "LCM is : 30\n",
      "HCF is : 30\n"
     ]
    }
   ],
   "source": [
    "#LCM,HCF\n",
    "a = int(input())\n",
    "b = int(input())\n",
    "for i in range(a,a*b+1,1):\n",
    "    if i%a == 0 and i%b == 0:\n",
    "        print(\"LCM is :\",i)\n",
    "        break\n",
    "\n",
    "for i in range(a*b,0,-1):\n",
    "    if i%a == 0 and i%b == 0:\n",
    "        print(\"HCF is :\",i)\n",
    "        break\n",
    "        "
   ]
  },
  {
   "cell_type": "code",
   "execution_count": null,
   "id": "e04944b0",
   "metadata": {},
   "outputs": [],
   "source": [
    "#prime number"
   ]
  },
  {
   "cell_type": "code",
   "execution_count": null,
   "id": "6a331e29",
   "metadata": {},
   "outputs": [
    {
     "name": "stdout",
     "output_type": "stream",
     "text": [
      "765\n"
     ]
    }
   ],
   "source": [
    "#wap which will add all the no. in btw 10 to 55 but it will skip all those no. that are divisible by 3 and 5\n",
    "temp = 0\n",
    "for i in range(10,56,1):\n",
    "    if(i%3 != 0 and i%5 != 0):\n",
    "        #continue\n",
    "        temp += i\n",
    "print(temp)"
   ]
  },
  {
   "cell_type": "code",
   "execution_count": 18,
   "id": "3b32b422",
   "metadata": {},
   "outputs": [
    {
     "name": "stdout",
     "output_type": "stream",
     "text": [
      "64 630\n"
     ]
    }
   ],
   "source": [
    "#wap which will print multiplication of all even and odd factor of given no.\n",
    "a = int(input())\n",
    "ed = 1\n",
    "od = 1\n",
    "for i in range(1,a+1,1):\n",
    "    if a%i == 0 and i%2 == 0:\n",
    "        ed *= i\n",
    "    else:\n",
    "        od *= i  \n",
    "print(ed,od)  "
   ]
  }
 ],
 "metadata": {
  "kernelspec": {
   "display_name": "Python 3",
   "language": "python",
   "name": "python3"
  },
  "language_info": {
   "codemirror_mode": {
    "name": "ipython",
    "version": 3
   },
   "file_extension": ".py",
   "mimetype": "text/x-python",
   "name": "python",
   "nbconvert_exporter": "python",
   "pygments_lexer": "ipython3",
   "version": "3.13.5"
  }
 },
 "nbformat": 4,
 "nbformat_minor": 5
}
