{
 "cells": [
  {
   "cell_type": "markdown",
   "id": "51d9a24d",
   "metadata": {},
   "source": [
    "Applied Python"
   ]
  },
  {
   "cell_type": "code",
   "execution_count": 5,
   "id": "c66f4453",
   "metadata": {},
   "outputs": [
    {
     "name": "stdout",
     "output_type": "stream",
     "text": [
      "Requirement already satisfied: numpy in c:\\users\\sc\\appdata\\local\\programs\\python\\python313\\lib\\site-packages (2.3.1)\n"
     ]
    }
   ],
   "source": [
    "! pip install numpy\n"
   ]
  },
  {
   "cell_type": "code",
   "execution_count": 2,
   "id": "f5549bdc",
   "metadata": {},
   "outputs": [],
   "source": [
    "import numpy as np"
   ]
  },
  {
   "cell_type": "code",
   "execution_count": 27,
   "id": "c00010c7",
   "metadata": {},
   "outputs": [
    {
     "name": "stdout",
     "output_type": "stream",
     "text": [
      "[[[20 18]\n",
      "  [14 12]]\n",
      "\n",
      " [[ 8  6]\n",
      "  [ 2  0]]]\n"
     ]
    }
   ],
   "source": [
    "import numpy as np\n",
    "# slicing a 3D array\n",
    "arr = np.arange(24).reshape(2, 4, 3)\n",
    "# print(arr)\n",
    "# print(arr[0::,::3,::2])  # slicing the array\n",
    "print(arr[::-1,-2::-2,-1::-2])\n"
   ]
  },
  {
   "cell_type": "code",
   "execution_count": 2,
   "id": "e6383f71",
   "metadata": {},
   "outputs": [
    {
     "name": "stdout",
     "output_type": "stream",
     "text": [
      "[ 7  9 11 13 15]\n",
      "[-5 -5 -5 -5 -5]\n",
      "[ 6 14 24 36 50]\n",
      "[0.16666667 0.28571429 0.375      0.44444444 0.5       ]\n",
      "[ 1  4  9 16 25]\n",
      "[1 0 1 0 1]\n",
      "[0 1 1 2 2]\n",
      "[False False  True  True  True]\n",
      "[ True False False False False]\n",
      "[False  True  True  True  True]\n",
      "[ True  True False False False]\n",
      "[False  True False False False]\n",
      "[ True False  True  True  True]\n",
      "[0 2 0 0 0]\n",
      "[ 7  7 11 13 15]\n",
      "[ 7  5 11 13 15]\n",
      "[-2 -3 -4 -5 -6]\n",
      "[False False  True False False]\n",
      "[ True  True  True  True  True]\n",
      "[ True  True False False False]\n",
      "[ True  True False  True  True]\n"
     ]
    }
   ],
   "source": [
    "# All scalar operations on 1D array using operators\n",
    "import numpy as np\n",
    "a = np.array([1, 2, 3, 4, 5])\n",
    "b = np.array([6, 7, 8, 9, 10])\n",
    "print(a + b)  # addition\n",
    "print(a - b)  # subtraction\n",
    "print(a * b)  # multiplication\n",
    "print(a / b)  # division\n",
    "print(a ** 2)  # exponentiation\n",
    "print(a % 2)  # modulus\n",
    "print(a // 2)  # floor division\n",
    "print(a > 2)  # greater than\n",
    "print(a < 2)  # less than\n",
    "print(a >= 2)  # greater than or equal to\n",
    "print(a <= 2)  # less than or equal to\n",
    "print(a == 2)  # equal to\n",
    "print(a != 2)  # not equal to\n",
    "print(a & b)  # bitwise AND\n",
    "print(a | b)  # bitwise OR\n",
    "print(a ^ b)  # bitwise XOR\n",
    "print(~a)  # bitwise NOT\n",
    "print(np.logical_and(a > 2, b < 9))  # logical AND\n",
    "print(np.logical_or(a > 2, b < 9))  # logical OR\n",
    "print(np.logical_not(a > 2))  # logical NOT\n",
    "print(np.logical_xor(a > 2, b < 9))  # logical XOR\n"
   ]
  },
  {
   "cell_type": "markdown",
   "id": "01df4e0d",
   "metadata": {},
   "source": [
    "DotProduct"
   ]
  },
  {
   "cell_type": "code",
   "execution_count": 3,
   "id": "a5a9b59e",
   "metadata": {},
   "outputs": [
    {
     "data": {
      "text/plain": [
       "np.int64(32)"
      ]
     },
     "execution_count": 3,
     "metadata": {},
     "output_type": "execute_result"
    }
   ],
   "source": [
    "# Dot product of two 1D arrays\n",
    "import numpy as np\n",
    "arr1 = np.array([1, 2, 3])\n",
    "arr2 = np.array([4, 5, 6])\n",
    "np.dot(arr1, arr2)  # using numpy dot function"
   ]
  },
  {
   "cell_type": "code",
   "execution_count": 8,
   "id": "ff3a7f68",
   "metadata": {},
   "outputs": [
    {
     "name": "stdout",
     "output_type": "stream",
     "text": [
      "[[ 0  1  2  3]\n",
      " [ 4  5  6  7]\n",
      " [ 8  9 10 11]] [[ 0  1  2]\n",
      " [ 3  4  5]\n",
      " [ 6  7  8]\n",
      " [ 9 10 11]]\n"
     ]
    },
    {
     "data": {
      "text/plain": [
       "array([[ 42,  48,  54],\n",
       "       [114, 136, 158],\n",
       "       [186, 224, 262]])"
      ]
     },
     "execution_count": 8,
     "metadata": {},
     "output_type": "execute_result"
    }
   ],
   "source": [
    "# Dot product of two 2D arrays\n",
    "# a1 = np.array([[1, 2], [3, 4]])\n",
    "# a2 = np.array([[5, 6], [7, 8]])\n",
    "a3 = np.arange(12).reshape(3, 4)\n",
    "a4 = np.arange(12).reshape(4, 3)\n",
    "print(a3, a4)\n",
    "# np.dot(a1, a2)  # using numpy dot function\n",
    "\n",
    "np.dot(a3, a4)  # using numpy dot function"
   ]
  },
  {
   "cell_type": "code",
   "execution_count": null,
   "id": "6f484567",
   "metadata": {},
   "outputs": [
    {
     "data": {
      "text/plain": [
       "np.float64(5.5)"
      ]
     },
     "execution_count": 13,
     "metadata": {},
     "output_type": "execute_result"
    }
   ],
   "source": [
    "# Mean of a 1D array\n",
    "np.mean(a3)"
   ]
  },
  {
   "cell_type": "code",
   "execution_count": null,
   "id": "ea82c4ff",
   "metadata": {},
   "outputs": [
    {
     "data": {
      "text/plain": [
       "array([4., 5., 6., 7.])"
      ]
     },
     "execution_count": 14,
     "metadata": {},
     "output_type": "execute_result"
    }
   ],
   "source": [
    "# mean of individual columns\n",
    "np.mean(a3, axis=0)  # mean along the first axis"
   ]
  },
  {
   "cell_type": "code",
   "execution_count": null,
   "id": "5d609c69",
   "metadata": {},
   "outputs": [],
   "source": [
    "# mean of individual rows\n",
    "np.mean(a3, axis=1)  # mean along the second axis"
   ]
  },
  {
   "cell_type": "code",
   "execution_count": null,
   "id": "fda10e41",
   "metadata": {},
   "outputs": [
    {
     "data": {
      "text/plain": [
       "np.int64(11)"
      ]
     },
     "execution_count": 15,
     "metadata": {},
     "output_type": "execute_result"
    }
   ],
   "source": [
    "np.min(a3)  # minimum value in the array"
   ]
  },
  {
   "cell_type": "code",
   "execution_count": 16,
   "id": "1a312018",
   "metadata": {},
   "outputs": [
    {
     "data": {
      "text/plain": [
       "np.int64(11)"
      ]
     },
     "execution_count": 16,
     "metadata": {},
     "output_type": "execute_result"
    }
   ],
   "source": [
    "np.max(a3)  # maximum value in the array"
   ]
  },
  {
   "cell_type": "code",
   "execution_count": 17,
   "id": "c8bb0e53",
   "metadata": {},
   "outputs": [
    {
     "data": {
      "text/plain": [
       "array([0, 1, 2, 3])"
      ]
     },
     "execution_count": 17,
     "metadata": {},
     "output_type": "execute_result"
    }
   ],
   "source": [
    "np.min(a3,axis=0)  # minimum value along the first axis"
   ]
  },
  {
   "cell_type": "code",
   "execution_count": 18,
   "id": "5f94129e",
   "metadata": {},
   "outputs": [
    {
     "data": {
      "text/plain": [
       "array([ 8,  9, 10, 11])"
      ]
     },
     "execution_count": 18,
     "metadata": {},
     "output_type": "execute_result"
    }
   ],
   "source": [
    "np.max(a3,axis=0)  # maximum value along the first axis"
   ]
  },
  {
   "cell_type": "code",
   "execution_count": 19,
   "id": "f0f2ce34",
   "metadata": {},
   "outputs": [
    {
     "data": {
      "text/plain": [
       "np.float64(11.916666666666666)"
      ]
     },
     "execution_count": 19,
     "metadata": {},
     "output_type": "execute_result"
    }
   ],
   "source": [
    "np.var(a3)  # variance of the array"
   ]
  },
  {
   "cell_type": "code",
   "execution_count": 24,
   "id": "176549b0",
   "metadata": {},
   "outputs": [
    {
     "data": {
      "text/plain": [
       "array([10.66666667, 10.66666667, 10.66666667, 10.66666667])"
      ]
     },
     "execution_count": 24,
     "metadata": {},
     "output_type": "execute_result"
    }
   ],
   "source": [
    "np.var(a3,axis=0) # variance along the first axis"
   ]
  },
  {
   "cell_type": "code",
   "execution_count": 23,
   "id": "81bf362f",
   "metadata": {},
   "outputs": [
    {
     "data": {
      "text/plain": [
       "array([1.25, 1.25, 1.25])"
      ]
     },
     "execution_count": 23,
     "metadata": {},
     "output_type": "execute_result"
    }
   ],
   "source": [
    "np.var(a3,axis=1) # variance along the second axis"
   ]
  },
  {
   "cell_type": "code",
   "execution_count": 20,
   "id": "29a7d02a",
   "metadata": {},
   "outputs": [
    {
     "data": {
      "text/plain": [
       "np.int64(66)"
      ]
     },
     "execution_count": 20,
     "metadata": {},
     "output_type": "execute_result"
    }
   ],
   "source": [
    "np.sum(a3)  # sum of the array"
   ]
  },
  {
   "cell_type": "code",
   "execution_count": 22,
   "id": "61a51ebf",
   "metadata": {},
   "outputs": [
    {
     "data": {
      "text/plain": [
       "array([12, 15, 18, 21])"
      ]
     },
     "execution_count": 22,
     "metadata": {},
     "output_type": "execute_result"
    }
   ],
   "source": [
    "np.sum(a3,axis=0)  # sum along the first axis"
   ]
  },
  {
   "cell_type": "code",
   "execution_count": 21,
   "id": "e4f3a201",
   "metadata": {},
   "outputs": [
    {
     "data": {
      "text/plain": [
       "array([12, 15, 18, 21])"
      ]
     },
     "execution_count": 21,
     "metadata": {},
     "output_type": "execute_result"
    }
   ],
   "source": [
    "np.sum(a3,axis =0)  # sum of the array"
   ]
  },
  {
   "cell_type": "code",
   "execution_count": 29,
   "id": "c2c9b436",
   "metadata": {},
   "outputs": [
    {
     "name": "stdout",
     "output_type": "stream",
     "text": [
      "25th percentile: 2.75\n",
      "50th percentile (median): 5.5\n",
      "75th percentile: 8.25\n",
      "90th percentile: 9.9\n",
      "100th percentile (max value): 11.0\n"
     ]
    }
   ],
   "source": [
    "# Percentile of a 1D array(percentile is a measure used in statistics indicating the value below which a given percentage falls)\n",
    "# Percentile is a relative quantity\n",
    "p25 = np.percentile(a3, 25)  # 25th percentile\n",
    "p50 = np.percentile(a3, 50)  # 50th percentile (median)\n",
    "p75 = np.percentile(a3, 75)  # 75th percentile\n",
    "p90 = np.percentile(a3, 90)  # 90th percentile\n",
    "p100 = np.percentile(a3, 100)  # 100th percentile (max value)\n",
    "print(\"25th percentile:\" ,p25)\n",
    "print(\"50th percentile (median):\", p50)\n",
    "print(\"75th percentile:\", p75)\n",
    "print(\"90th percentile:\", p90)\n",
    "print(\"100th percentile (max value):\", p100)"
   ]
  },
  {
   "cell_type": "markdown",
   "id": "990b357a",
   "metadata": {},
   "source": [
    "2D Array"
   ]
  },
  {
   "cell_type": "code",
   "execution_count": null,
   "id": "22067b30",
   "metadata": {},
   "outputs": [
    {
     "name": "stdout",
     "output_type": "stream",
     "text": [
      "[[ 0  1  2  3  4]\n",
      " [ 5  6  7  8  9]\n",
      " [10 11 12 13 14]\n",
      " [15 16 17 18 19]]\n"
     ]
    }
   ],
   "source": [
    "# 2d array\n",
    "a2 = np.arange(20).reshape(4, 5)  # creating a 2D array\n",
    "print(a2)\n",
    "print()\n",
    "for i in a2:\n",
    "    print(i)"
   ]
  },
  {
   "cell_type": "code",
   "execution_count": 50,
   "id": "02890066",
   "metadata": {},
   "outputs": [
    {
     "name": "stdout",
     "output_type": "stream",
     "text": [
      "[[ 5  6  7  8  9]\n",
      " [15 16 17 18 19]\n",
      " [25 26 27 28 29]\n",
      " [35 36 37 38 39]]\n"
     ]
    }
   ],
   "source": [
    "# add 5 to each element of the 1st row of the 1st matrix\n",
    "a2 = np.arange(20).reshape(4, 5)\n",
    "cnt = 5\n",
    "for i in range(len(a2)):\n",
    "    a2[i] += cnt  # adding 5 to each element of the row\n",
    "    cnt += 5  # incrementing the count by 5 for each row\n",
    "print(a2)\n",
    "\n"
   ]
  },
  {
   "cell_type": "markdown",
   "id": "7b1be0e0",
   "metadata": {},
   "source": [
    "Stacking of numpy array"
   ]
  },
  {
   "cell_type": "code",
   "execution_count": 57,
   "id": "320d5253",
   "metadata": {},
   "outputs": [
    {
     "name": "stdout",
     "output_type": "stream",
     "text": [
      "[[ 0  1  2  3]\n",
      " [ 4  5  6  7]\n",
      " [ 8  9 10 11]]\n",
      "\n",
      "[[12 13 14 15]\n",
      " [16 17 18 19]\n",
      " [20 21 22 23]]\n"
     ]
    }
   ],
   "source": [
    "a = np.arange(12).reshape(3, 4)  # creating a 2D array\n",
    "b = np.arange(12,24).reshape(3, 4)  # creating another 2D array\n",
    "print(a)\n",
    "print()\n",
    "print(b)"
   ]
  },
  {
   "cell_type": "code",
   "execution_count": 58,
   "id": "c30189df",
   "metadata": {},
   "outputs": [
    {
     "name": "stdout",
     "output_type": "stream",
     "text": [
      "[[ 0  1  2  3 12 13 14 15]\n",
      " [ 4  5  6  7 16 17 18 19]\n",
      " [ 8  9 10 11 20 21 22 23]]\n"
     ]
    }
   ],
   "source": [
    "# Horizontal stacking of two 2D arrays\n",
    "s = np.hstack((a, b))  # horizontal stacking\n",
    "print(s)"
   ]
  },
  {
   "cell_type": "code",
   "execution_count": null,
   "id": "545eb5f4",
   "metadata": {},
   "outputs": [
    {
     "name": "stdout",
     "output_type": "stream",
     "text": [
      "[[ 0  1  2  3]\n",
      " [ 4  5  6  7]\n",
      " [ 8  9 10 11]\n",
      " [12 13 14 15]\n",
      " [16 17 18 19]\n",
      " [20 21 22 23]]\n"
     ]
    }
   ],
   "source": [
    "# Vertical stacking of two 2D arrays\n",
    "s1 = np.vstack((a, b))  # horizontal stacking\n",
    "print(s1)"
   ]
  },
  {
   "cell_type": "code",
   "execution_count": null,
   "id": "c6172ef8",
   "metadata": {},
   "outputs": [
    {
     "name": "stdout",
     "output_type": "stream",
     "text": [
      "[array([[ 0,  1],\n",
      "       [ 4,  5],\n",
      "       [ 8,  9],\n",
      "       [12, 13],\n",
      "       [16, 17],\n",
      "       [20, 21]]), array([[ 2,  3],\n",
      "       [ 6,  7],\n",
      "       [10, 11],\n",
      "       [14, 15],\n",
      "       [18, 19],\n",
      "       [22, 23]])]\n"
     ]
    }
   ],
   "source": [
    "# Horizontal splitting of two 2D arrays\n",
    "s2 = np.hsplit(s, 2)  # horizontal splitting\n",
    "print(s2)"
   ]
  }
 ],
 "metadata": {
  "kernelspec": {
   "display_name": "Python 3",
   "language": "python",
   "name": "python3"
  },
  "language_info": {
   "codemirror_mode": {
    "name": "ipython",
    "version": 3
   },
   "file_extension": ".py",
   "mimetype": "text/x-python",
   "name": "python",
   "nbconvert_exporter": "python",
   "pygments_lexer": "ipython3",
   "version": "3.13.5"
  }
 },
 "nbformat": 4,
 "nbformat_minor": 5
}
