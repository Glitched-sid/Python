{
 "cells": [
  {
   "cell_type": "code",
   "execution_count": 7,
   "id": "be2a5de8",
   "metadata": {},
   "outputs": [
    {
     "name": "stdout",
     "output_type": "stream",
     "text": [
      "{1: 'abc', 2: 'xyz'}\n",
      "{'name': 'sid', 1: ['abc', 'xyz']}\n",
      "{1: 'abc', 2: 'xyz', 3: 'lmn'}\n",
      "{'a': 1, 'b': 2, 'c': 3}\n",
      "{'hii': 23, 'bye': 24, 25: 'hello'}\n",
      "{'man': 90, 'women': 80}\n",
      "{1: 'a', 2: 'b', 3: 'c'}\n",
      "{50: 'mongo', 80: '}orange'}\n",
      "{(5, 6, 7): 'b', 3: 'b'}\n"
     ]
    }
   ],
   "source": [
    "#CRUD Operations\n",
    "# creation\n",
    "a_dict = {1:'abc',2:'xyz'}\n",
    "print(a_dict)\n",
    "\n",
    "#with mixed pairs\n",
    "b_dict = {'name': 'sid',1:['abc','xyz']}\n",
    "print(b_dict)\n",
    "\n",
    "#list of list\n",
    "a = dict([[1,'abc'],[2,'xyz'],[3,'lmn']])\n",
    "print(a)\n",
    "\n",
    "#list of tuple\n",
    "b = dict([('a',1),('b',2),('c',3)])\n",
    "print(b)\n",
    "\n",
    "#list of set\n",
    "c = dict([{'hii',23},{'bye',24},{'hello',25}])\n",
    "print(c)\n",
    "\n",
    "#tuple of list\n",
    "d = dict((['man',90],['women',80]))\n",
    "print(d)\n",
    "\n",
    "#tuple of tuple\n",
    "e = dict(((1,'a'),(2,'b'),(3,'c')))\n",
    "print(e)\n",
    "\n",
    "#tuple of set\n",
    "f = dict(({'mongo',50},{'}orange',80}))\n",
    "print(f)\n",
    "\n",
    "#set of tuple\n",
    "g = dict({((5,6,7),'b'),(3,'b')})\n",
    "print(g)\n"
   ]
  },
  {
   "cell_type": "code",
   "execution_count": null,
   "id": "18543962",
   "metadata": {},
   "outputs": [
    {
     "name": "stdout",
     "output_type": "stream",
     "text": [
      "27\n",
      "None\n"
     ]
    }
   ],
   "source": [
    "a = dict({'name':'satish','age':27,'address':'guntur'})\n",
    "print(a['age'])\n",
    "# print(a['degree'])#if key is not present shows error\n",
    "#if key is not present not shows error print none\n",
    "print(a.get('degree'))\n"
   ]
  },
  {
   "cell_type": "code",
   "execution_count": 19,
   "id": "bc3d51e6",
   "metadata": {},
   "outputs": [
    {
     "name": "stdout",
     "output_type": "stream",
     "text": [
      "{'name': 'sam', 'age': 27, 'address': 'guntur'}\n",
      "{'name': 'satish', 'age': 27, 'address': 'guntur', 'degree': 'MTech'}\n"
     ]
    }
   ],
   "source": [
    "#update\n",
    "a = dict({'name':'satish','age':27,'address':'guntur'})\n",
    "a['name'] = 'sam'\n",
    "print(a)\n",
    "\n",
    "b = dict({'name':'satish','age':27,'address':'guntur'})\n",
    "b['degree'] = \"MTech\"\n",
    "print(b)"
   ]
  },
  {
   "cell_type": "code",
   "execution_count": 22,
   "id": "7e94682b",
   "metadata": {},
   "outputs": [
    {
     "name": "stdout",
     "output_type": "stream",
     "text": [
      "{3: 7, 8: 9, 12: 25, 13: 32}\n",
      "{3: 7, 8: 14, 12: 30, 13: 32}\n"
     ]
    }
   ],
   "source": [
    "x = dict({3:7,8:9,12:25,13:32})\n",
    "print(x)\n",
    "x[8]+=5\n",
    "x[12]+=5\n",
    "print(x)"
   ]
  },
  {
   "cell_type": "code",
   "execution_count": 28,
   "id": "c631f714",
   "metadata": {},
   "outputs": [
    {
     "name": "stdout",
     "output_type": "stream",
     "text": [
      "{3: 3, 5: 4, 7: 2, 9: 2, 2: 1, 8: 1}\n"
     ]
    }
   ],
   "source": [
    "x = [3,5,3,7,9,2,5,8,5,7,9,3,5]\n",
    "d = {}\n",
    "for i in x:\n",
    "    d[i]=x.count(i)\n",
    "print(d)"
   ]
  },
  {
   "cell_type": "code",
   "execution_count": 29,
   "id": "811e4489",
   "metadata": {},
   "outputs": [
    {
     "name": "stdout",
     "output_type": "stream",
     "text": [
      "satish\n"
     ]
    }
   ],
   "source": [
    "#pop- return value what is deleted\n",
    "a = dict({'name':'satish','age':27,'address':'guntur'})\n",
    "print(a.pop('name'))"
   ]
  },
  {
   "cell_type": "code",
   "execution_count": null,
   "id": "55b200e5",
   "metadata": {},
   "outputs": [
    {
     "name": "stdout",
     "output_type": "stream",
     "text": [
      "('address', 'guntur')\n",
      "{'name': 'satish', 'age': 27}\n"
     ]
    }
   ],
   "source": [
    "#popitem-pop last value\n",
    "a = dict({'name':'satish','age':27,'address':'guntur'})\n",
    "print(a.popitem())\n",
    "print(a)"
   ]
  },
  {
   "cell_type": "code",
   "execution_count": 40,
   "id": "80eb4e4d",
   "metadata": {},
   "outputs": [
    {
     "name": "stdout",
     "output_type": "stream",
     "text": [
      "{'age': 27, 'address': 'guntur'}\n"
     ]
    }
   ],
   "source": [
    "#del\n",
    "a = dict({'name':'satish','age':27,'address':'guntur'})\n",
    "del a['name']\n",
    "print(a)"
   ]
  },
  {
   "cell_type": "code",
   "execution_count": 41,
   "id": "ef2d315e",
   "metadata": {},
   "outputs": [
    {
     "name": "stdout",
     "output_type": "stream",
     "text": [
      "{}\n"
     ]
    }
   ],
   "source": [
    "#clear-delete all elements and return empty dictionary\n",
    "a = dict({'name':'satish','age':27,'address':'guntur'})\n",
    "a.clear()\n",
    "print(a)"
   ]
  },
  {
   "cell_type": "code",
   "execution_count": 42,
   "id": "666d61b6",
   "metadata": {},
   "outputs": [
    {
     "name": "stdout",
     "output_type": "stream",
     "text": [
      "[3, 4, 5, 14, 7]\n",
      "[3, 4, 5, 14, 7]\n"
     ]
    }
   ],
   "source": [
    "x = [3,4,5,6,7]\n",
    "y = x\n",
    "x[3] = 15\n",
    "y[3] = 14\n",
    "print(x)\n",
    "print(y)"
   ]
  },
  {
   "cell_type": "code",
   "execution_count": null,
   "id": "f67b6337",
   "metadata": {},
   "outputs": [
    {
     "name": "stdout",
     "output_type": "stream",
     "text": [
      "[3, 4, 5, 14, 7]\n",
      "[3, 4, 5, 14, 7]\n"
     ]
    }
   ],
   "source": [
    "#copy function\n",
    "x = [3,4,5,6,7]\n",
    "y = x.copy()\n",
    "y = x\n",
    "x[3] = 15\n",
    "y[3] = 14\n",
    "print(x)\n",
    "print(y)"
   ]
  },
  {
   "cell_type": "code",
   "execution_count": 46,
   "id": "70a6ce7b",
   "metadata": {},
   "outputs": [
    {
     "name": "stdout",
     "output_type": "stream",
     "text": [
      "dict_keys([2, 3, 4, 5])\n",
      "dict_values([4, 9, 16, 25])\n",
      "dict_items([(2, 4), (3, 9), (4, 16), (5, 25)])\n"
     ]
    }
   ],
   "source": [
    "#keys,values,items\n",
    "subjects = {2:4, 3:9, 4:16, 5:25}\n",
    "print(subjects.keys())\n",
    "print(subjects.values())\n",
    "print(subjects.items())"
   ]
  },
  {
   "cell_type": "code",
   "execution_count": 50,
   "id": "a59977bc",
   "metadata": {},
   "outputs": [
    {
     "name": "stdout",
     "output_type": "stream",
     "text": [
      "{3: 2, 8: 4, 12: 20, 13: 37}\n"
     ]
    }
   ],
   "source": [
    "x = {3:7,8:9,12:25,13:32}\n",
    "for k,v in x.items():\n",
    "    if v%2 == 0:\n",
    "        x[k] += 5\n",
    "    else:\n",
    "        x[k] -=5\n",
    "print(x)"
   ]
  },
  {
   "cell_type": "code",
   "execution_count": 55,
   "id": "a7a77b18",
   "metadata": {},
   "outputs": [
    {
     "name": "stdout",
     "output_type": "stream",
     "text": [
      "{3: 2, 4: [7, 8, 9, 10], 5: [2, 3, 4, 7, 8], 6: [1, 3, 5, 2]}\n"
     ]
    }
   ],
   "source": [
    "z = {3:[1,2,3,4,6],4:[7,8,9,10],5:[2,3,4,7,8],6:[1,3,5,2]}\n",
    "cnt =0\n",
    "for i in v:\n",
    "    if i % 2 != 0:\n",
    "        cnt +=1\n",
    "    z[k] = cnt\n",
    "print(z)    \n"
   ]
  },
  {
   "cell_type": "code",
   "execution_count": 57,
   "id": "357de132",
   "metadata": {},
   "outputs": [
    {
     "name": "stdout",
     "output_type": "stream",
     "text": [
      "{3: [2, 3, 4, 5, 7], 4: [8, 9, 10, 11], 5: [3, 4, 5, 8, 9], 6: [2, 4, 6, 3]}\n"
     ]
    }
   ],
   "source": [
    "z = {3:[1,2,3,4,6],4:[7,8,9,10],5:[2,3,4,7,8],6:[1,3,5,2]}\n",
    "for k,v in z.items():\n",
    "   z[k] = [i+1 for i in v]\n",
    "print(z) "
   ]
  },
  {
   "cell_type": "code",
   "execution_count": 58,
   "id": "e6c19902",
   "metadata": {},
   "outputs": [
    {
     "name": "stdout",
     "output_type": "stream",
     "text": [
      "{'b': 3, 'c': 4, 'd': 5, 'e': 6}\n"
     ]
    }
   ],
   "source": [
    "#Creating a dictionary with only pairs where the value\n",
    "a = {'a':2,'b':3,'c':4,'d':5,'e':6}\n",
    "b = {k:v for k,v in a.items() if v>2}\n",
    "print(b)"
   ]
  },
  {
   "cell_type": "code",
   "execution_count": null,
   "id": "cc13555e",
   "metadata": {},
   "outputs": [
    {
     "name": "stdout",
     "output_type": "stream",
     "text": [
      "{'bc': 6, 'cc': 8, 'dc': 10, 'ec': 12}\n"
     ]
    }
   ],
   "source": [
    "#we can also perform operations on the key value pairs \n",
    "a = {'a':2,'b':3,'c':4,'d':5,'e':6}\n",
    "b = {k+'c':v*2 for k,v in a.items() if v>2}\n",
    "print(b)"
   ]
  },
  {
   "cell_type": "code",
   "execution_count": 7,
   "id": "0b695f0c",
   "metadata": {},
   "outputs": [
    {
     "name": "stdout",
     "output_type": "stream",
     "text": [
      "Factorial of n is: 24\n",
      "Factorial of r is: 30\n",
      "Factorial of n-r is: 1\n"
     ]
    }
   ],
   "source": [
    "a = int(input(\"Enter a number to find factorial: \"))\n",
    "b = int(input(\"Enter another number to find factorial: \"))\n",
    "# Factorial of a number\n",
    "temp1 = 1\n",
    "temp2 = 1\n",
    "temp3 = 1\n",
    "i = 1\n",
    "while i <= a:\n",
    "    temp1 *= i\n",
    "    i += 1\n",
    "print(\"Factorial of n is:\", temp1)\n",
    "while i <= b:\n",
    "    temp2 *= i\n",
    "    i += 1\n",
    "print(\"Factorial of r is:\", temp2)\n",
    "while i <= (a-b):\n",
    "    temp3 *= i\n",
    "    i += 1\n",
    "print(\"Factorial of n-r is:\", temp3)"
   ]
  }
 ],
 "metadata": {
  "kernelspec": {
   "display_name": "Python 3",
   "language": "python",
   "name": "python3"
  },
  "language_info": {
   "codemirror_mode": {
    "name": "ipython",
    "version": 3
   },
   "file_extension": ".py",
   "mimetype": "text/x-python",
   "name": "python",
   "nbconvert_exporter": "python",
   "pygments_lexer": "ipython3",
   "version": "3.13.5"
  }
 },
 "nbformat": 4,
 "nbformat_minor": 5
}
