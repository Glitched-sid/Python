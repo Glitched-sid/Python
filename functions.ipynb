{
 "cells": [
  {
   "cell_type": "code",
   "execution_count": null,
   "id": "ff7bbd24",
   "metadata": {},
   "outputs": [
    {
     "name": "stdout",
     "output_type": "stream",
     "text": [
      "nCr of 5 and 3 is: 10\n"
     ]
    }
   ],
   "source": [
    "# perform combination calculation using factorials\n",
    "def fact(n):\n",
    "    temp = 1\n",
    "    for i in range(1, n + 1):\n",
    "        temp *= i\n",
    "    return temp\n",
    "\n",
    "n = int(input(\"Enter n: \"))\n",
    "r = int(input(\"Enter r: \"))\n",
    "a = fact(n)\n",
    "b = fact(r)\n",
    "c = fact(n - r)\n",
    "ans = a // (b * c)\n",
    "print(f\"The value of {n}C{r} is: {ans}\")"
   ]
  },
  {
   "cell_type": "code",
   "execution_count": 14,
   "id": "a7f5dd4c",
   "metadata": {},
   "outputs": [
    {
     "name": "stdout",
     "output_type": "stream",
     "text": [
      "17\n"
     ]
    }
   ],
   "source": [
    "# wap to input a list and print the sum of prime elements\n",
    "def is_prime(lst):\n",
    "    temp = 0\n",
    "    for i in lst:\n",
    "        if i ==2 or i == 3 or i == 5 or i == 7:\n",
    "            temp += i\n",
    "    return temp\n",
    "lst = [2, 3, 4, 5, 6, 7, 8, 9, 10]\n",
    "print(is_prime(lst))"
   ]
  },
  {
   "cell_type": "code",
   "execution_count": 16,
   "id": "7aeca9e3",
   "metadata": {},
   "outputs": [
    {
     "name": "stdout",
     "output_type": "stream",
     "text": [
      "Your name and id is ShaileshSkm22\n",
      "Your name and id is 25\n"
     ]
    }
   ],
   "source": [
    "def print_info(name, id, age):\n",
    "    print(\"Your name and id is\",name+id)\n",
    "    print(\"Your name and id is\",age)\n",
    "print_info(name =\"Shailesh\",age = 25 , id = \"Skm22\")#positional argument"
   ]
  },
  {
   "cell_type": "code",
   "execution_count": 20,
   "id": "8f787d86",
   "metadata": {},
   "outputs": [
    {
     "name": "stdout",
     "output_type": "stream",
     "text": [
      "22\n",
      "11\n"
     ]
    }
   ],
   "source": [
    "# for unknown no. of in input use - *\n",
    "def add(* temp):\n",
    "    x = 0\n",
    "    for i in temp:\n",
    "        x += i\n",
    "    print(x)\n",
    "add(4,5,6,7)\n",
    "add(5,6)"
   ]
  },
  {
   "cell_type": "code",
   "execution_count": 23,
   "id": "e340354a",
   "metadata": {},
   "outputs": [
    {
     "name": "stdout",
     "output_type": "stream",
     "text": [
      "64\n"
     ]
    }
   ],
   "source": [
    "# lambda function\n",
    "# or annonimous function\n",
    "# lambda argument : expession\n",
    "# returns function\n",
    "# print((lambda x : x**3)(3))\n",
    "fun = lambda x : x**3\n",
    "print(fun(4))"
   ]
  },
  {
   "cell_type": "code",
   "execution_count": 30,
   "id": "537f6f06",
   "metadata": {},
   "outputs": [
    {
     "name": "stdout",
     "output_type": "stream",
     "text": [
      "even\n"
     ]
    }
   ],
   "source": [
    "# check if given no.is even or odd\n",
    "a = lambda x : \"even\"if x%2 == 0 else \"odd\"\n",
    "print(a(24))"
   ]
  },
  {
   "cell_type": "code",
   "execution_count": 36,
   "id": "f2d3c4dc",
   "metadata": {},
   "outputs": [
    {
     "name": "stdout",
     "output_type": "stream",
     "text": [
      "prime\n"
     ]
    }
   ],
   "source": [
    "# check the entered number is prime or not\n",
    "a = lambda x : \"prime\"if x==2 or x==3 or x==5 or x==7 else \"not prime\"\n",
    "print(a(3))"
   ]
  },
  {
   "cell_type": "markdown",
   "id": "2c9125d3",
   "metadata": {},
   "source": [
    "# higher order function\n",
    "# map,filter,reduce"
   ]
  },
  {
   "cell_type": "code",
   "execution_count": 37,
   "id": "d52cd50d",
   "metadata": {},
   "outputs": [
    {
     "name": "stdout",
     "output_type": "stream",
     "text": [
      "[1, 4, 9, 16, 25, 36]\n"
     ]
    }
   ],
   "source": [
    "# square the items of list\n",
    "lst = [1,2,3,4,5,6]\n",
    "x = list(map(lambda x:x**2,lst))\n",
    "print(x)"
   ]
  },
  {
   "cell_type": "code",
   "execution_count": null,
   "id": "d0ec314d",
   "metadata": {},
   "outputs": [
    {
     "name": "stdout",
     "output_type": "stream",
     "text": [
      "[4.90625, 32.556776000000006, 68.773536, 376.49385, 1741.4518500000001, 452.15999999999997]\n"
     ]
    }
   ],
   "source": [
    "# map\n",
    "# Calculate the area of circles using the list of radius\n",
    "lst = [1.25,3.22,4.68,10.95,23.55,12]\n",
    "x = list(map(lambda x:3.14*x*x,lst))\n",
    "print(x)"
   ]
  },
  {
   "cell_type": "code",
   "execution_count": 43,
   "id": "cc5a2120",
   "metadata": {},
   "outputs": [
    {
     "name": "stdout",
     "output_type": "stream",
     "text": [
      "[3, 4, 5, 6]\n"
     ]
    }
   ],
   "source": [
    "# calculate the length of string i list\n",
    "lst = [\"asc\",\"amsn\",\"kajsd\",\"kdjsdj\"]\n",
    "x = list(map(lambda x:len(x),lst))\n",
    "print(x)"
   ]
  },
  {
   "cell_type": "code",
   "execution_count": 45,
   "id": "04f5b27e",
   "metadata": {},
   "outputs": [
    {
     "name": "stdout",
     "output_type": "stream",
     "text": [
      "[5, 7, 9, 12]\n"
     ]
    }
   ],
   "source": [
    "# filter\n",
    "# make list of all the elements greater than 4\n",
    "lst = [2,4,5,7,2,3,9,1,12]\n",
    "x = list(filter(lambda x:x>4,lst))\n",
    "print(x)"
   ]
  },
  {
   "cell_type": "code",
   "execution_count": 51,
   "id": "3eaa7fce",
   "metadata": {},
   "outputs": [
    {
     "name": "stdout",
     "output_type": "stream",
     "text": [
      "['apple', 'alphabet', 'And']\n"
     ]
    }
   ],
   "source": [
    "# print the list of elements starting with a\n",
    "lst = [\"apple\",\"alphabet\",\"orange\",\"glass\",\"And\"]\n",
    "x = list(filter(lambda x:x[0].lower()=='a',lst))\n",
    "print(x)"
   ]
  },
  {
   "cell_type": "code",
   "execution_count": null,
   "id": "7f33d6cc",
   "metadata": {},
   "outputs": [
    {
     "name": "stdout",
     "output_type": "stream",
     "text": [
      "35\n"
     ]
    }
   ],
   "source": [
    "# return function\n",
    "# return the sum of list\n",
    "from functools import reduce\n",
    "lst = [2,3,4,5,6,7,8]\n",
    "x = reduce(lambda a,x:a+x,lst)\n",
    "print(x)"
   ]
  },
  {
   "cell_type": "code",
   "execution_count": null,
   "id": "67fd056f",
   "metadata": {},
   "outputs": [
    {
     "name": "stdout",
     "output_type": "stream",
     "text": [
      "8\n"
     ]
    }
   ],
   "source": [
    "# return the max value from the list\n",
    "# a is first value, x is second value\n",
    "from functools import reduce\n",
    "lst = [2,3,4,5,6,7,8]\n",
    "# x = reduce(lambda a,x:max(a,x),lst)\n",
    "x = reduce(lambda a,x:x if a>x else x,lst)\n",
    "print(x)"
   ]
  },
  {
   "cell_type": "code",
   "execution_count": 57,
   "id": "ea859a14",
   "metadata": {},
   "outputs": [
    {
     "name": "stdout",
     "output_type": "stream",
     "text": [
      "{'x': 1, 'y': 2, 'z': 3, 'a': 4}\n"
     ]
    }
   ],
   "source": [
    "# wap to reverse the key and values of a given dictionary using dictionary comprehension\n",
    "# dictionary :{'x':1,'y:2,'z':3}\n",
    "# expected output:{1:'x',1:'x',1:'x'}\n",
    "d = {1:'x',2:'y',3:'z',4:'a'}\n",
    "d1 = {v:k for k,v in d.items()}\n",
    "print(d1)\n"
   ]
  }
 ],
 "metadata": {
  "kernelspec": {
   "display_name": "Python 3",
   "language": "python",
   "name": "python3"
  },
  "language_info": {
   "codemirror_mode": {
    "name": "ipython",
    "version": 3
   },
   "file_extension": ".py",
   "mimetype": "text/x-python",
   "name": "python",
   "nbconvert_exporter": "python",
   "pygments_lexer": "ipython3",
   "version": "3.13.5"
  }
 },
 "nbformat": 4,
 "nbformat_minor": 5
}
