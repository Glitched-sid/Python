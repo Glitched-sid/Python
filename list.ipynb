{
 "cells": [
  {
   "cell_type": "code",
   "execution_count": null,
   "id": "87868cae",
   "metadata": {},
   "outputs": [
    {
     "name": "stdout",
     "output_type": "stream",
     "text": [
      "[1, 2, 3, 4]\n"
     ]
    }
   ],
   "source": [
    "#list is a ordered collection of items that can store mixed data types\n",
    "\n",
    "lst_new = [1,2,3,4]\n",
    "print(lst_new)"
   ]
  },
  {
   "cell_type": "code",
   "execution_count": 9,
   "id": "c1a4e55b",
   "metadata": {},
   "outputs": [
    {
     "name": "stdout",
     "output_type": "stream",
     "text": [
      "[10, 20, 30, 40, 50, 60, 70, 80, 34, 56, 98, 12]\n",
      "[10, 20, 30, 40]\n",
      "[20, 40, 60, 80]\n",
      "[12, 98, 56, 34, 80, 70, 60, 50, 40, 30, 20, 10]\n",
      "[10, 40]\n",
      "[60, 34, 12]\n",
      "[10, 60, 98]\n",
      "[12, 34, 60]\n",
      "[]\n",
      "[]\n"
     ]
    }
   ],
   "source": [
    "#\n",
    "list = [10,20,30,40,50,60,70,80,34,56,98,12]\n",
    "print(list[:])\n",
    "print(list[0:4])\n",
    "print(list[1:8:2])\n",
    "print(list[::-1])\n",
    "print(list[:5:3])\n",
    "print(list[5::3])\n",
    "print(list[::5])\n",
    "print(list[:3:-3])\n",
    "print(list[1:9:-2])\n",
    "print(list[9:1:3])"
   ]
  },
  {
   "cell_type": "code",
   "execution_count": 10,
   "id": "76b108e7",
   "metadata": {},
   "outputs": [
    {
     "name": "stdout",
     "output_type": "stream",
     "text": [
      "['apple', 'banana', 'cherry', 'watermelon', 'guava']\n"
     ]
    }
   ],
   "source": [
    "fruits = ['apple','banana','cherry','watermelon','guava']\n",
    "print(fruits)"
   ]
  },
  {
   "cell_type": "code",
   "execution_count": 13,
   "id": "90ec754c",
   "metadata": {},
   "outputs": [
    {
     "name": "stdout",
     "output_type": "stream",
     "text": [
      "['apple', 'banana', 'cherry', 'tomato', 'guava']\n"
     ]
    }
   ],
   "source": [
    "fruits[3] = 'tomato'\n",
    "print(fruits)"
   ]
  },
  {
   "cell_type": "code",
   "execution_count": 15,
   "id": "55b5f6cb",
   "metadata": {},
   "outputs": [
    {
     "name": "stdout",
     "output_type": "stream",
     "text": [
      "['orange', 'apple', 'banana', 'cherry', 'tomato', 'guava']\n"
     ]
    }
   ],
   "source": [
    "fruits.insert(-13,'orange')\n",
    "print(fruits)"
   ]
  },
  {
   "cell_type": "code",
   "execution_count": 17,
   "id": "2ac53dfb",
   "metadata": {},
   "outputs": [
    {
     "name": "stdout",
     "output_type": "stream",
     "text": [
      "[4, 5, 6, 1, 2, [4, 5, 6], 3, 5, 9]\n",
      "[1, 2, [4, 5, 6], 3, 5, 9]\n"
     ]
    }
   ],
   "source": [
    "list1 = [1,2,[4,5,6],3,5,9]\n",
    "list2 = [4,5,6]\n",
    "list2.extend(list1)\n",
    "print(list2)\n",
    "print(list1)"
   ]
  },
  {
   "cell_type": "code",
   "execution_count": 19,
   "id": "aa9f5c79",
   "metadata": {},
   "outputs": [
    {
     "name": "stdout",
     "output_type": "stream",
     "text": [
      "2 3 4 5 6 7 8 9 "
     ]
    }
   ],
   "source": [
    "lst = [2,3,4,5,6,7,8,9]\n",
    "for i in range(len(lst)):\n",
    "    print(lst[i],end = \" \")"
   ]
  },
  {
   "cell_type": "code",
   "execution_count": 20,
   "id": "58ca14bb",
   "metadata": {},
   "outputs": [
    {
     "name": "stdout",
     "output_type": "stream",
     "text": [
      "4 4\n"
     ]
    }
   ],
   "source": [
    "#wap which will print count of even and odd in a given list\n",
    "list = [2,4,2,53,53,57,3,5,2,5]\n",
    "ed = 0\n",
    "od = 0\n",
    "for i in range(len(lst)):\n",
    "    if lst[i]%2 == 0:\n",
    "        ed += 1 \n",
    "    else:\n",
    "        od += 1  \n",
    "print(ed,od)  "
   ]
  },
  {
   "cell_type": "code",
   "execution_count": null,
   "id": "717e7074",
   "metadata": {},
   "outputs": [
    {
     "name": "stdout",
     "output_type": "stream",
     "text": [
      "[2, 4, 2, 53, 57, 3, 5, 2, 5]\n"
     ]
    }
   ],
   "source": [
    "#delete an element and whole list\n",
    "lst = [2,4,2,53,53,57,3,5,2,5]\n",
    "del lst[4]\n",
    "print(lst)\n",
    "# del lst\n",
    "# print(lst)"
   ]
  },
  {
   "cell_type": "code",
   "execution_count": 8,
   "id": "ddb50896",
   "metadata": {},
   "outputs": [
    {
     "name": "stdout",
     "output_type": "stream",
     "text": [
      "[2, 4, 2, 53, 57, 3, 5, 2, 5]\n",
      "53\n"
     ]
    }
   ],
   "source": [
    "#pop function\n",
    "lst = [2,4,2,53,53,57,3,5,2,5]\n",
    "a = lst.pop(3)\n",
    "print(lst)\n",
    "print(a)"
   ]
  },
  {
   "cell_type": "code",
   "execution_count": 10,
   "id": "eb6a4fce",
   "metadata": {},
   "outputs": [
    {
     "name": "stdout",
     "output_type": "stream",
     "text": [
      "[2, 4, 2, 53, 53, 57, 3, 5, 2, 5]\n",
      "[2, 4, 2, 53, 57, 3, 5, 2, 5]\n"
     ]
    }
   ],
   "source": [
    "#remove function works on values\n",
    "lst = [2,4,2,53,53,57,3,5,2,5]\n",
    "print(lst)\n",
    "lst.remove(53)\n",
    "#remove function removes the first value it finds\n",
    "print(lst)"
   ]
  },
  {
   "cell_type": "code",
   "execution_count": 11,
   "id": "19fd32fa",
   "metadata": {},
   "outputs": [
    {
     "name": "stdout",
     "output_type": "stream",
     "text": [
      "[2, 4, 2, [53, 53], 53, 57, 3, 5, 2, 5]\n",
      "[2, 4, 2, [53, 53], 57, 3, 5, 2, 5]\n"
     ]
    }
   ],
   "source": [
    "lst = [2,4,2,[53,53],53,57,3,5,2,5]\n",
    "print(lst)\n",
    "lst.remove(53)\n",
    "print(lst)"
   ]
  },
  {
   "cell_type": "code",
   "execution_count": 13,
   "id": "8fc145e4",
   "metadata": {},
   "outputs": [
    {
     "name": "stdout",
     "output_type": "stream",
     "text": [
      "[2, 4, 2, 53, 53, 57, 3, 5, 2, 5]\n"
     ]
    },
    {
     "data": {
      "text/plain": [
       "2"
      ]
     },
     "execution_count": 13,
     "metadata": {},
     "output_type": "execute_result"
    }
   ],
   "source": [
    "#counrt function\n",
    "lst = [2,4,2,53,53,57,3,5,2,5]\n",
    "print(lst)\n",
    "lst.count(53)"
   ]
  },
  {
   "cell_type": "code",
   "execution_count": 21,
   "id": "cd6dba7c",
   "metadata": {},
   "outputs": [
    {
     "name": "stdout",
     "output_type": "stream",
     "text": [
      "[5, 2, 5, 3, 57, 53, 53, 2, 4, 2]\n"
     ]
    }
   ],
   "source": [
    "#REVERSE A LIST- not change the list and return reverse list\n",
    "#reverse function\n",
    "lst = [2,4,2,53,53,57,3,5,2,5]\n",
    "# lst[::-1]\n",
    "lst.reverse()\n",
    "print(lst)"
   ]
  },
  {
   "cell_type": "code",
   "execution_count": null,
   "id": "9e5b0c9f",
   "metadata": {},
   "outputs": [
    {
     "data": {
      "text/plain": [
       "1"
      ]
     },
     "execution_count": 20,
     "metadata": {},
     "output_type": "execute_result"
    }
   ],
   "source": [
    "# index function (works on value)\n",
    "lst = [2,4,2,53,53,57,3,5,2,5]\n",
    "lst.index(4)"
   ]
  },
  {
   "cell_type": "code",
   "execution_count": 23,
   "id": "a25b8fb6",
   "metadata": {},
   "outputs": [
    {
     "name": "stdout",
     "output_type": "stream",
     "text": [
      "[4, 2, 53, 2, 57, 53, 5, 3, 5, 2]\n"
     ]
    }
   ],
   "source": [
    "# wap to input a list swap the element from odd index with even index\n",
    "lst = [2,4,2,53,53,57,3,5,2,5]\n",
    "for i in range(0,len(lst)-1,2):\n",
    "    lst[i],lst[i+1] = lst[i+1],lst[i]\n",
    "print(lst)\n"
   ]
  },
  {
   "cell_type": "code",
   "execution_count": 24,
   "id": "db52b5ec",
   "metadata": {},
   "outputs": [
    {
     "name": "stdout",
     "output_type": "stream",
     "text": [
      "57\n"
     ]
    }
   ],
   "source": [
    "#wap which will print the largest element in the list\n",
    "lst = [2,4,2,53,53,57,3,5,2,5]\n",
    "temp = lst[0]\n",
    "for i in range(0,len(lst),1):\n",
    "    if lst[i]>temp:\n",
    "        temp = lst[i]\n",
    "print(temp)"
   ]
  },
  {
   "cell_type": "code",
   "execution_count": null,
   "id": "d2aec187",
   "metadata": {},
   "outputs": [],
   "source": [
    "#second max\n",
    "lst = [2,4,2,53,53,57,3,5,2,5]\n"
   ]
  },
  {
   "cell_type": "code",
   "execution_count": 26,
   "id": "1e0ebb31",
   "metadata": {},
   "outputs": [
    {
     "name": "stdout",
     "output_type": "stream",
     "text": [
      "[20, 15, 12, 10, 9]\n"
     ]
    }
   ],
   "source": [
    "#list=[2,5,3,2,20,8,15,6,12,10,9]\n",
    "# o/p- [25,20,15,12,9]\n",
    "lst=[2,5,3,2,20,8,15,6,12,10,9]\n",
    "lst.reverse()\n",
    "lst1 = [lst[0]]\n",
    "temp = lst[0]\n",
    "for i in lst:\n",
    "    if i > temp:\n",
    "        temp = i\n",
    "        lst1.append(i)\n",
    "lst1.reverse()\n",
    "print(lst1)\n"
   ]
  },
  {
   "cell_type": "code",
   "execution_count": null,
   "id": "d3c76082",
   "metadata": {},
   "outputs": [],
   "source": [
    "lst=[2,5,3,2,20,8,15,6,12,10,9]\n",
    "num = int(input(\"\")\n",
    "          \n",
    "\n",
    ")"
   ]
  },
  {
   "cell_type": "code",
   "execution_count": 12,
   "id": "814af4e1",
   "metadata": {},
   "outputs": [
    {
     "name": "stdout",
     "output_type": "stream",
     "text": [
      "[25, 3, 2, 20, 10, 15, 6, 12, 10, 9, 11]\n"
     ]
    }
   ],
   "source": [
    "lst = [25,3,2,20,10,15,6,12,10,9,11]\n",
    "print(lst)\n"
   ]
  },
  {
   "cell_type": "code",
   "execution_count": null,
   "id": "c476234f",
   "metadata": {},
   "outputs": [
    {
     "name": "stdout",
     "output_type": "stream",
     "text": [
      "[9, 16, 25, 36, 529, 100, 144]\n"
     ]
    }
   ],
   "source": [
    "#square of each number in a list\n",
    "lst = [3,4,5,6,23,10,12]\n",
    "lst1 = [i**2 for i in lst]\n",
    "print(lst1)"
   ]
  },
  {
   "cell_type": "code",
   "execution_count": null,
   "id": "92e2af13",
   "metadata": {},
   "outputs": [
    {
     "name": "stdout",
     "output_type": "stream",
     "text": [
      "[3, 5, 8, 12] [3, 5, 8, 12]\n"
     ]
    }
   ],
   "source": [
    "#\n",
    "lst = [3,5,-7,8,-3,12,-18.-23]\n",
    "lst1 = [i for i in lst if i > 0]\n",
    "lst2 = [i for i in lst if i > 0]\n",
    "print(lst1,lst2)"
   ]
  },
  {
   "cell_type": "code",
   "execution_count": null,
   "id": "126b3823",
   "metadata": {},
   "outputs": [
    {
     "name": "stdout",
     "output_type": "stream",
     "text": [
      "['even', 'odd', 'odd', 'even', 'even', 'even', 'odd', 'even', 'even', 'even', 'odd']\n"
     ]
    }
   ],
   "source": [
    "#print even ,and odd in a list in place of numbers\n",
    "lst=[2,5,3,2,20,8,15,6,12,10,9]\n",
    "lst1 = [\"even\" if i%2 == 0 else \"odd\" for i in lst]\n",
    "print(lst1)"
   ]
  },
  {
   "cell_type": "code",
   "execution_count": null,
   "id": "c9faf96b",
   "metadata": {},
   "outputs": [
    {
     "name": "stdout",
     "output_type": "stream",
     "text": [
      "20\n",
      "2\n",
      "92\n"
     ]
    }
   ],
   "source": [
    "#wap to find max, min and sum of a list\n",
    "lst=[2,5,3,2,20,8,15,6,12,10,9]\n",
    "print(max(lst))\n",
    "print(min(lst))\n",
    "print(sum(lst))"
   ]
  },
  {
   "cell_type": "code",
   "execution_count": null,
   "id": "69b4b118",
   "metadata": {},
   "outputs": [
    {
     "name": "stdout",
     "output_type": "stream",
     "text": [
      "[9, 9, 8, 8]\n"
     ]
    }
   ],
   "source": [
    "#find max in a list of lists\n",
    "lst = [[3,5,7,9],[8,2,5,9],[7,3,5,8],[8,3,2]]\n",
    "lst1 = [max(i) for i in lst]\n",
    "print(lst1)"
   ]
  },
  {
   "cell_type": "code",
   "execution_count": null,
   "id": "00c55667",
   "metadata": {},
   "outputs": [
    {
     "name": "stdout",
     "output_type": "stream",
     "text": [
      "5 3 15 9 "
     ]
    }
   ],
   "source": [
    "#\n",
    "lst = [[3,5,7,9],[8,2,5,9],[7,3,5,8],[8,3,2]]\n",
    "lst1 = [for i in lst]\n",
    "temp = 0\n",
    "for j in i:\n",
    "    if j%2 == 0:\n",
    "        temp += j\n",
    "    lst1.append(temp)\n",
    "print(lst1)    "
   ]
  },
  {
   "cell_type": "code",
   "execution_count": null,
   "metadata": {},
   "outputs": [],
   "source": []
  },
  {
   "cell_type": "code",
   "execution_count": null,
   "metadata": {},
   "outputs": [],
   "source": [
    "#set\n",
    "#"
   ]
  },
  {
   "cell_type": "code",
   "execution_count": null,
   "id": "6af09954",
   "metadata": {},
   "outputs": [
    {
     "name": "stdout",
     "output_type": "stream",
     "text": [
      "{1, 2, 3, 4, 5, 6, 7, 8}\n"
     ]
    }
   ],
   "source": [
    "#union of two sets\n",
    "set1 = {1,2,3,4,5,6}\n",
    "set2 = {2,3,6,7,8,9,1}\n",
    "print(set1 | set2)"
   ]
  },
  {
   "cell_type": "code",
   "execution_count": null,
   "id": "135dbc86",
   "metadata": {},
   "outputs": [
    {
     "name": "stdout",
     "output_type": "stream",
     "text": [
      "{4, 5}\n"
     ]
    }
   ],
   "source": [
    "#intersection of two sets\n",
    "set1 = {1,2,3,4,5,6}\n",
    "set2 = {2,3,6,7,8,9,1}\n",
    "print(set1 & set2)"
   ]
  },
  {
   "cell_type": "code",
   "execution_count": null,
   "id": "2f9c25b8",
   "metadata": {},
   "outputs": [
    {
     "name": "stdout",
     "output_type": "stream",
     "text": [
      "{1, 2, 3}\n"
     ]
    }
   ],
   "source": [
    "#subtract set2 from set 1\n",
    "set1 = {1,2,3,4,5,6}\n",
    "set2 = {2,3,6,7,8,9,1}\n",
    "print(set1 - set2)"
   ]
  },
  {
   "cell_type": "code",
   "execution_count": 5,
   "id": "b64096ed",
   "metadata": {},
   "outputs": [
    {
     "name": "stdout",
     "output_type": "stream",
     "text": [
      "{4, 5, 7, 8, 9}\n"
     ]
    }
   ],
   "source": [
    "#symmetric difference\n",
    "set1 = {1,2,3,4,5,6}\n",
    "set2 = {2,3,6,7,8,9,1}\n",
    "print(set1 ^ set2)"
   ]
  },
  {
   "cell_type": "code",
   "execution_count": null,
   "id": "87672e1d",
   "metadata": {},
   "outputs": [],
   "source": []
  }
 ],
 "metadata": {
  "kernelspec": {
   "display_name": "Python 3",
   "language": "python",
   "name": "python3"
  },
  "language_info": {
   "codemirror_mode": {
    "name": "ipython",
    "version": 3
   },
   "file_extension": ".py",
   "mimetype": "text/x-python",
   "name": "python",
   "nbconvert_exporter": "python",
   "pygments_lexer": "ipython3",
   "version": "3.13.5"
  }
 },
 "nbformat": 4,
 "nbformat_minor": 5
}
